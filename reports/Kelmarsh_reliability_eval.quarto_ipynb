{
  "cells": [
    {
      "cell_type": "markdown",
      "metadata": {},
      "source": [
        "---\n",
        "title: \"Windpark Kelmarsh (2016) - 12.5 MW\"\n",
        "subtitle: \"Reliability Evaluation\"\n",
        "author: \"Jorge A. Thomas\"\n",
        "date: April.2025\n",
        "format:    \n",
        "    html:\n",
        "      theme: default\n",
        "      self-contained: true\n",
        "      code-fold: true\n",
        "      df-print: tibble\n",
        "      code-summary: \"Show the code\"\n",
        "      toc: true\n",
        "      toc-depth: 3\n",
        "      grid: \n",
        "        margin-width: 350px\n",
        "execute: \n",
        "  echo: fenced\n",
        "reference-location: margin \n",
        "citation-location: document\n",
        "---\n",
        "\n",
        "\n",
        "## Project Overview\n",
        "\n",
        "\"Kelmarsh Wind Farm is located near Haselbach, Northamptonshire and comprises six 2.05MW Senvion MM92 turbines. The Project was acquired from EON in December 2014 and was constructed in joint venture with Santander using balance sheet finance. Construction was completed in April 2016. It is now owned by Cubico Investments.\"\n",
        "\n",
        "-   https://www.blue-energyco.com/our-projects/kelmarsh/\n",
        "\n",
        "::: {#fig-intro layout-ncol=\"2\"}\n",
        "![Kelmarsh Wind Farm](../imgs/Kelmarsh_wind_project_blue-energyco.jpg){width=\"100%\"}\n",
        "\n",
        "![Senvion MM92 turbine](../imgs/turbine-senvion_mm92.jpg){width=\"100%\"}\n",
        "\n",
        "Near Haselbach, Northamptonshire (UK).\n",
        ":::\n"
      ],
      "id": "f76975c6"
    },
    {
      "cell_type": "code",
      "metadata": {},
      "source": [
        "#| label: Pyhton-setup\n",
        "#| eval: true\n",
        "#| echo: false\n",
        "\n",
        "# https://en.wind-turbine-models.com/turbines/889-senvion-mm92\n",
        "\n",
        "from pathlib import Path\n",
        "import duckdb\n",
        "import polars as pl\n",
        "import polars.selectors as cs\n",
        "import plotly.express as px\n",
        "from great_tables import GT, md\n",
        "\n",
        "# PROJECT_ROOT = Path(__file__).parent.parent.parent.parent\n",
        "# folder_path_interim = PROJECT_ROOT / \"data\" / \"interim\"\n",
        "folder_path_interim = \"../data/interim/\""
      ],
      "id": "Pyhton-setup",
      "execution_count": null,
      "outputs": []
    },
    {
      "cell_type": "markdown",
      "metadata": {},
      "source": [
        "Read parquet files\n"
      ],
      "id": "e195bf44"
    },
    {
      "cell_type": "code",
      "metadata": {},
      "source": [
        "#| label: Read-Data\n",
        "tstatus = pl.read_parquet(f\"{folder_path_interim}Kelmarsh_Turbines_Status_20160114_20230109_n385133_cols12.parquet\")\n",
        "\n",
        "tstatus"
      ],
      "id": "Read-Data",
      "execution_count": null,
      "outputs": []
    },
    {
      "cell_type": "markdown",
      "metadata": {},
      "source": [
        "Filter Stop\n"
      ],
      "id": "c4d0e0a0"
    },
    {
      "cell_type": "code",
      "metadata": {},
      "source": [
        "#| label: Filter-Stops\n",
        "\n",
        "stops = pl.sql(    \n",
        "    \"\"\"\n",
        "    SELECT * EXCLUDE (\"Custom contract category\")    \n",
        "    FROM tstatus\n",
        "    WHERE \"Status\" = 'Stop'\n",
        "    \"\"\").collect()"
      ],
      "id": "Filter-Stops",
      "execution_count": null,
      "outputs": []
    },
    {
      "cell_type": "markdown",
      "metadata": {},
      "source": [
        "Filter Forced Outages\n"
      ],
      "id": "db19eb6f"
    },
    {
      "cell_type": "code",
      "metadata": {},
      "source": [
        "#| label: Filter-Forced-Outages\n",
        "\n",
        "# Aggregate tables using SQL syntax\n",
        "foutages = pl.sql(\n",
        "    \"\"\"\n",
        "    SELECT * \n",
        "    FROM stops\n",
        "    WHERE \"IEC category\" = 'Forced outage' \n",
        "    \"\"\").collect()\n",
        "\n",
        "foutages = foutages.rename({\"Duration\":\"TTR\"})\n",
        "\n",
        "# TTF\n",
        "foutages = foutages.with_columns(\n",
        "    (pl.col(\"Timestamp start\").shift(-1) - pl.col(\"Timestamp end\")).shift(1).alias(\"TTF\")\n",
        "    )\n",
        "\n",
        "foutages = foutages.with_columns(\n",
        "    pl.when(pl.col(\"TTF\") < 0).then(None).otherwise(pl.col(\"TTF\")).alias(\"TTF\")\n",
        ")\n",
        "\n",
        "foutages"
      ],
      "id": "Filter-Forced-Outages",
      "execution_count": null,
      "outputs": []
    },
    {
      "cell_type": "markdown",
      "metadata": {},
      "source": [
        "## Time Series for Binary Plot\n"
      ],
      "id": "3ca3aaa3"
    },
    {
      "cell_type": "code",
      "metadata": {},
      "source": [
        "#| label: Binary-Plot\n",
        "\n",
        "dtstarts = foutages.select([\"Timestamp start\", \"Status\", \"Message\",  \"wt\"]).rename({\"Timestamp start\": \"Timestamp\"})\n",
        "dtends = foutages.select([\"Timestamp end\", \"Status\", \"Message\",  \"wt\"]).with_columns(pl.lit(\"Start\").alias(\"Status\")).rename({\"Timestamp end\": \"Timestamp\"})\n",
        "\n",
        "tstates = pl.concat([dtstarts, dtends]).sort([\"wt\", 'Timestamp'])\n",
        "\n",
        "# tstates_ts = dtstarts.join(dtends, on=\"Timestamp\", how=\"full\").sort([\"wt\", 'Timestamp'])\n",
        "\n",
        "tstates= tstates.with_columns(\n",
        "    pl.when(pl.col(\"Status\") == \"Stop\").then(0).otherwise(1).alias(\"State\"),\n",
        "    pl.col(\"Timestamp\").dt.year().alias(\"Year\")    \n",
        "    )\n",
        "\n",
        "tstates= tstates.with_columns(    \n",
        "    (pl.col(\"wt\") + \"-\" + pl.col(\"Year\").cast(str)).alias(\"wt_Year\")\n",
        "    )\n",
        "\n",
        "tstates\n",
        "#TODO: remove missing years!"
      ],
      "id": "Binary-Plot",
      "execution_count": null,
      "outputs": []
    },
    {
      "cell_type": "code",
      "metadata": {},
      "source": [
        "#| label: Find-Missing-Values\n",
        "\n",
        "# Get rows containing any null values\n",
        "missing = (tstates\n",
        "          .with_row_count(\"row_index\")\n",
        "          .filter(pl.any_horizontal(pl.all().is_null()))\n",
        "          .sort(\"row_index\"))\n",
        "\n",
        "# Display rows with missing values\n",
        "print(\"Rows containing missing values:\")\n",
        "print(missing)\n",
        "\n",
        "# Get count of missing values per column\n",
        "print(\"\\nMissing value counts per column:\")\n",
        "print(tstates.null_count())"
      ],
      "id": "Find-Missing-Values",
      "execution_count": null,
      "outputs": []
    },
    {
      "cell_type": "markdown",
      "metadata": {},
      "source": [
        "## Plot Square Signal\n"
      ],
      "id": "1e0df443"
    },
    {
      "cell_type": "code",
      "metadata": {
        "fig-width": 10,
        "fig-height": 18
      },
      "source": [
        "#| label: Square-Signal-Plot\n",
        "\n",
        "import plotly.express as px\n",
        "\n",
        "# Other line_shape options, or interpolation methods between given points:\n",
        "\n",
        "# 'hv' step ends, equivalent to pyplot's post option;\n",
        "# 'vh' step starts;\n",
        "# 'hvh' step middles, x axis;\n",
        "# 'vhv' step middles, y axis;\n",
        "# 'spline' smooth curve between points;\n",
        "# 'linear' line segments between points, default value for line_shape.\n",
        "\n",
        "fig = px.line(tstates, x='Timestamp', y=\"State\", line_shape='hv', facet_row=\"wt_Year\", color=\"wt\",\n",
        "     title=\"Time / State Diagram for Kellmarsh Wind Turbines (2016-2022)\",\n",
        "     subtitle= \"(0) Down Step=Forced outage (IEC), (1) Up Step=Start\",\n",
        "     labels={\"Timestamp\": \"Time (UTC)\", \"State\": \"\", \"wt\": \"\"},facet_row_spacing=0.01 )\n",
        "\n",
        "# Update y-axis to show only 0 and 1 as labels\n",
        "fig.update_yaxes(\n",
        "    tickvals=[0, 1],  # Set tick values to 0 and 1\n",
        "    ticktext=[\"\", \"\"]  # Optional: Explicitly set tick text\n",
        ")\n",
        "\n",
        "fig.update_xaxes(matches=None, tickformat=\"%b\"  )\n",
        "\n",
        "\n",
        "# Update facet labels orientation and size\n",
        "fig.for_each_annotation(lambda a: a.update(text=a.text.split(\"-\")[-1],textangle=0, xanchor='left', x=-0.04))  # Make labels horizontal\n",
        "fig.update_annotations(font_size=8)  # Reduce font size\n",
        "\n",
        "fig.show()"
      ],
      "id": "Square-Signal-Plot",
      "execution_count": null,
      "outputs": []
    }
  ],
  "metadata": {
    "kernelspec": {
      "display_name": "Python 3",
      "language": "python",
      "name": "python3"
    }
  },
  "nbformat": 4,
  "nbformat_minor": 5
}